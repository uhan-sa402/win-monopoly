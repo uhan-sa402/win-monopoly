{
 "cells": [
  {
   "cell_type": "markdown",
   "metadata": {
    "hide_cell": true
   },
   "source": [
    "**SA402 &#x25aa; Dynamic and Stochastic Models &#x25aa; Fall 2023**"
   ]
  },
  {
   "cell_type": "markdown",
   "metadata": {},
   "source": [
    "# How to Win at Monopoly"
   ]
  },
  {
   "cell_type": "markdown",
   "metadata": {},
   "source": [
    "## Background"
   ]
  },
  {
   "cell_type": "markdown",
   "metadata": {},
   "source": [
    "<img src=\"monopoly.jpg\" width=\"60%\">"
   ]
  },
  {
   "cell_type": "markdown",
   "metadata": {},
   "source": [
    "* Here's a very, very basic guide to the rules of Monopoly.\n",
    "\n",
    "* There are 40 **board positions**, numbered 0 to 39, some of which correspond to **properties**. [See the tables at the end of this notebook.](#tables)\n",
    "\n",
    "\n",
    "* All players start at position 0 (\"Go\"). At each turn, a player rolls 2 six-sided dice and moves according to the sum of their values.\n",
    "\n",
    "\n",
    "* If the player lands on a property that is not owned by another player, he or she has the opportunity to **purchase** it. If the property is already owned by another player, then he or she has to **pay rent** to the owner.\n",
    "\n",
    "\n",
    "* If the player lands on \"Chance\" or \"Community Chest,\" then the player must randomly draw a \"Chance\" or \"Community Chest\" card, which tells the player to collect money, pay money, or go to a different board position. [See the tables at the end of this notebook for the distributions of the \"Chance\" and \"Community Chest\" cards.](#tables)"
   ]
  },
  {
   "cell_type": "markdown",
   "metadata": {},
   "source": [
    "## Objective"
   ]
  },
  {
   "cell_type": "markdown",
   "metadata": {},
   "source": [
    "* If we know which properties are landed on the most, this could help us devise a good strategy for which properties to buy. \n",
    "\n",
    "\n",
    "* We will determine which properties are landed on the most by modeling movement on the board as a Markov chain, in which **each board position corresponds to a state** and **each time step coresponds to one turn**.\n",
    "\n",
    "\n",
    "* _For the Monopoly veterans:_ \n",
    "    - We're going to ignore any \"rolling doubles\" rules (especially the one where 3 double rolls sends a player to Jail). \n",
    "    - In addition, we're going to assume that a player leaves Jail after 1 turn (that is, going to Jail just moves the player's position). \n",
    "    - It turns out that these assumptions affect the accuracy of our results only slightly."
   ]
  },
  {
   "cell_type": "markdown",
   "metadata": {},
   "source": [
    "## Let's analyze this Markov chain"
   ]
  },
  {
   "cell_type": "markdown",
   "metadata": {},
   "source": [
    "* In the same folder as this notebook, there is a file `monopoly.py` that defines the transition probability matrix for the Monopoly Markov chain. \n",
    "\n",
    "\n",
    "* Open the file and take a look. The variable `P` is the transition probability matrix $\\mathbf{P}$.\n",
    "\n",
    "\n",
    "* We can import the variable `P` from `monopoly.py` as follows:  "
   ]
  },
  {
   "cell_type": "code",
   "execution_count": null,
   "metadata": {},
   "outputs": [],
   "source": [
    "from monopoly import P"
   ]
  },
  {
   "cell_type": "markdown",
   "metadata": {},
   "source": [
    "* We can inspect `P` as follows:"
   ]
  },
  {
   "cell_type": "code",
   "execution_count": null,
   "metadata": {
    "tags": []
   },
   "outputs": [],
   "source": [
    "P"
   ]
  },
  {
   "cell_type": "markdown",
   "metadata": {},
   "source": [
    "* Note that `P` is a [NumPy](https://numpy.org/) [matrix](https://numpy.org/doc/stable/reference/generated/numpy.matrix.html), which represents a matrix, roughly speaking, as a list of rows. \n",
    "\n",
    "\n",
    "* For example, the matrix\n",
    "$$\n",
    "A = \\begin{bmatrix}\n",
    "    1 & 2 & 3\\\\\n",
    "    4 & 5 & 6\\\\\n",
    "    7 & 8 & 9\n",
    "    \\end{bmatrix}\n",
    "$$\n",
    "is represented as\n",
    "\n",
    "```\n",
    "matrix([[1, 2, 3],\n",
    "        [4, 5, 6],\n",
    "        [7, 8, 9]])\n",
    "```"
   ]
  },
  {
   "cell_type": "markdown",
   "metadata": {},
   "source": [
    "### Step 1"
   ]
  },
  {
   "cell_type": "markdown",
   "metadata": {},
   "source": [
    "* Let's first try to understand what some of these transition probabilities are.\n",
    "\n",
    "\n",
    "* Consider $p_{14,18}$, the transition probability between Virginia Avenue (14) and Tennessee Avenue (18). We can access the relevant entry of the NumPy matrix `P` using\n",
    "\n",
    "    ```python\n",
    "    P[14, 18]\n",
    "    ```\n",
    "    \n",
    "    <br>Give it a try below."
   ]
  },
  {
   "cell_type": "code",
   "execution_count": null,
   "metadata": {},
   "outputs": [],
   "source": []
  },
  {
   "cell_type": "markdown",
   "metadata": {},
   "source": [
    "What is the value of $p_{14,18}$? Briefly explain how this transition probability is derived."
   ]
  },
  {
   "cell_type": "markdown",
   "metadata": {},
   "source": [
    "_Write your notes here. Double-click to edit._"
   ]
  },
  {
   "cell_type": "markdown",
   "metadata": {},
   "source": [
    "### Step 2"
   ]
  },
  {
   "cell_type": "markdown",
   "metadata": {},
   "source": [
    "* Now consider the transition probability between New York Avenue (19) and Jail (30). According to the transition probability matrix, what is its value? Briefly explain why.\n",
    "\n",
    "\n",
    "* _Hint_. [See the tables at the end of this notebook.](#tables) Remember that you can go to Jail from the Chance #2 board position (22)."
   ]
  },
  {
   "cell_type": "code",
   "execution_count": null,
   "metadata": {},
   "outputs": [],
   "source": []
  },
  {
   "cell_type": "markdown",
   "metadata": {},
   "source": [
    "_Write your notes here. Double-click to edit._"
   ]
  },
  {
   "cell_type": "markdown",
   "metadata": {},
   "source": [
    "### Step 3"
   ]
  },
  {
   "cell_type": "markdown",
   "metadata": {},
   "source": [
    "* Compute $\\mathbf{P}^{1000}$. Recall that in Python, we write $x^y$ as `x**y`."
   ]
  },
  {
   "cell_type": "code",
   "execution_count": null,
   "metadata": {},
   "outputs": [],
   "source": []
  },
  {
   "cell_type": "markdown",
   "metadata": {},
   "source": [
    "* Does $\\mathbf{P}^{1000}$ have a particular structure? Why do you think it looks the way it does?"
   ]
  },
  {
   "cell_type": "markdown",
   "metadata": {},
   "source": [
    "_Write your notes here. Double-click to edit._"
   ]
  },
  {
   "cell_type": "markdown",
   "metadata": {},
   "source": [
    "* Using your computed $\\mathbf{P}^{1000}$, give an educated guess on which states are transient and which states are recurrrent."
   ]
  },
  {
   "cell_type": "markdown",
   "metadata": {},
   "source": [
    "_Write your notes here. Double-click to edit._"
   ]
  },
  {
   "cell_type": "markdown",
   "metadata": {},
   "source": [
    "### Step 4"
   ]
  },
  {
   "cell_type": "markdown",
   "metadata": {},
   "source": [
    "* Recall that we can compute the steady-state probabilities by solving the following system of equations:\n",
    "    $$\n",
    "    \\begin{aligned}\n",
    "    \\mathbf{\\pi}^{\\top} \\mathbf{P} & = \\mathbf{\\pi}^{\\top}\\\\\n",
    "    \\mathbf{\\pi}^{\\top} \\mathbf{1} & = 1\n",
    "    \\end{aligned}\n",
    "    $$\n",
    "\n",
    "    We can rewrite this system of equations as\n",
    "    $$\n",
    "    \\begin{aligned}\n",
    "    (\\mathbf{I} - \\mathbf{P})^{\\top} \\mathbf{\\pi} & = \\mathbf{0}\\\\\n",
    "    \\mathbf{1}^{\\top} \\mathbf{\\pi} & = 1\n",
    "    \\end{aligned}\n",
    "    $$\n",
    "\n",
    "    or equivalently,\n",
    "\n",
    "    $$\n",
    "    \\underbrace{\\left[ \\begin{array}{c}\n",
    "        (\\mathbf{I} - \\mathbf{P})^{\\top} \\\\\n",
    "        1 \\cdots 1\n",
    "    \\end{array} \\right]}_{\\mathbf{A}}\n",
    "    \\mathbf{\\pi}\n",
    "    = \n",
    "    \\underbrace{\\left[ \\begin{array}{c}\n",
    "        0\\\\\n",
    "        \\vdots\\\\\n",
    "        0\\\\\n",
    "        1\n",
    "    \\end{array} \\right]}_{\\mathbf{b}}\n",
    "    $$\n",
    "\n",
    "\n",
    "* To set up and solve this system, we will use some NumPy functions.\n",
    "\n",
    "\n",
    "* First, let's import NumPy."
   ]
  },
  {
   "cell_type": "code",
   "execution_count": null,
   "metadata": {},
   "outputs": [],
   "source": [
    "import numpy as np"
   ]
  },
  {
   "cell_type": "markdown",
   "metadata": {},
   "source": [
    "* To form the $\\mathbf{A}$ matrix above, we need to stack $(\\mathbf{I} - \\mathbf{P})^{\\top}$ and $[1 \\cdots 1 ]$ vertically.\n",
    "\n",
    "\n",
    "* In NumPy:\n",
    "    - The $n \\times n$ identity matrix is `np.eye(n)`.\n",
    "    - The transpose of matrix `M` is `M.T`.\n",
    "    - The $m \\times n$ matrix of 0s is `np.zeros((m, n))`.\n",
    "    - The $m \\times n$ matrix of 1s is `np.ones((m, n))`.\n",
    "    - We can vertically stack matrices `R` and `S` using `np.vstack([R, S])`.\n",
    "\n",
    "\n",
    "* Using this information, define a NumPy matrix `A` that represents the matrix $\\mathbf{A}$ defined above."
   ]
  },
  {
   "cell_type": "code",
   "execution_count": null,
   "metadata": {},
   "outputs": [],
   "source": []
  },
  {
   "cell_type": "markdown",
   "metadata": {},
   "source": [
    "* Next, define a NumPy matrix `b` that represent the vector $\\mathbf{b}$ defined above."
   ]
  },
  {
   "cell_type": "code",
   "execution_count": null,
   "metadata": {},
   "outputs": [],
   "source": []
  },
  {
   "cell_type": "markdown",
   "metadata": {},
   "source": [
    "* Finally, we can solve the system $\\mathbf{A} \\pi = \\mathbf{b}$ using the method `np.linalg.lstsq` like this:"
   ]
  },
  {
   "cell_type": "code",
   "execution_count": null,
   "metadata": {},
   "outputs": [],
   "source": [
    "pi, *other_info = np.linalg.lstsq(A, b, rcond=None)\n",
    "\n",
    "# Display pi, transposed so that it fits on our screens\n",
    "pi.T"
   ]
  },
  {
   "cell_type": "markdown",
   "metadata": {},
   "source": [
    "* What is the long-run fraction of time that the game is at Reading Railroad (5)? How about Boardwalk (39)?"
   ]
  },
  {
   "cell_type": "markdown",
   "metadata": {},
   "source": [
    "_Write your notes here. Double-click to edit._"
   ]
  },
  {
   "cell_type": "markdown",
   "metadata": {},
   "source": [
    "* Compare the $\\pi$ you found to $\\mathbf{P}^{1000}$. What do you see? Is this what you expected? Why?"
   ]
  },
  {
   "cell_type": "markdown",
   "metadata": {},
   "source": [
    "_Write your notes here. Double-click to edit._"
   ]
  },
  {
   "cell_type": "markdown",
   "metadata": {},
   "source": [
    "### Step 5"
   ]
  },
  {
   "cell_type": "markdown",
   "metadata": {},
   "source": [
    "* In the long run, what are the 5 most visited board positions?\n",
    "\n",
    "* _Hint._ In NumPy, the following code will take a column vector `x` and return the **indices** that sort the elements of `x` from lowest to highest.\n",
    "\n",
    "    ```python\n",
    "    np.argsort(x, axis=0)\n",
    "    ```"
   ]
  },
  {
   "cell_type": "code",
   "execution_count": null,
   "metadata": {},
   "outputs": [],
   "source": []
  },
  {
   "cell_type": "markdown",
   "metadata": {},
   "source": [
    "_Write your notes here. Double-click to edit._"
   ]
  },
  {
   "cell_type": "markdown",
   "metadata": {},
   "source": [
    "### Step 6"
   ]
  },
  {
   "cell_type": "markdown",
   "metadata": {},
   "source": [
    "* For those of you familiar with Monopoly, you know that the most visited properties might not be the most valuable, because the rent you can charge differs from property to property.\n",
    "\n",
    "\n",
    "* Run the cell below, which imports a NumPy column vector called `rent` from `monopoly.py`. \n",
    "\n",
    "\n",
    "* This vector contains the rents you can charge on each property if you own 1 house on that property.\n",
    "    * _For the Monopoly veterans:_ we will ignore utilities and railroads and assume the rents on those properties is \\$0, since the renting rules are a bit more complicated for those properties."
   ]
  },
  {
   "cell_type": "code",
   "execution_count": null,
   "metadata": {
    "tags": []
   },
   "outputs": [],
   "source": [
    "from monopoly import rent"
   ]
  },
  {
   "cell_type": "markdown",
   "metadata": {},
   "source": [
    "* We can `rent` as follows:"
   ]
  },
  {
   "cell_type": "code",
   "execution_count": null,
   "metadata": {
    "tags": []
   },
   "outputs": [],
   "source": [
    "# Show rent vector, transposed\n",
    "rent.T"
   ]
  },
  {
   "cell_type": "markdown",
   "metadata": {},
   "source": [
    "* So, for example, if you owned one house on Boardwalk (39), you would receive \\$50 every time a player lands on Boardwalk."
   ]
  },
  {
   "cell_type": "markdown",
   "metadata": {},
   "source": [
    "* How would you use the vector `rent` with the steady state probability vector `pi` you found above to find the __expected one-house rent per dice roll__ for each property?\n",
    "\n",
    "* _Hint._ In NumPy, you can multiply two vectors `x1` and `x2` component-wise with:\n",
    "\n",
    "    ```python\n",
    "    np.multiply(x1, x2)\n",
    "    ```"
   ]
  },
  {
   "cell_type": "code",
   "execution_count": null,
   "metadata": {},
   "outputs": [],
   "source": []
  },
  {
   "cell_type": "markdown",
   "metadata": {},
   "source": [
    "* Which 5 properties have the highest expected one-house rent per dice roll? Based on this, what can you say about which properties are better or worse to own?"
   ]
  },
  {
   "cell_type": "code",
   "execution_count": null,
   "metadata": {},
   "outputs": [],
   "source": []
  },
  {
   "cell_type": "markdown",
   "metadata": {},
   "source": [
    "_Write your notes here. Double-click to edit._"
   ]
  },
  {
   "cell_type": "markdown",
   "metadata": {},
   "source": [
    "### Step 7"
   ]
  },
  {
   "cell_type": "markdown",
   "metadata": {
    "tags": []
   },
   "source": [
    "* Suppose we want to incorporate the \"rolling doubles\" rules. In particular:\n",
    "    - If the player rolls a double, they roll again after taking their turn. If they roll three doubles in a row, then they go to jail.\n",
    "    - A player stays in Jail for three turns, or until he or she rolls a double.\n",
    "\n",
    "\n",
    "* How would you change the Markov chain to incorporate these rules?"
   ]
  },
  {
   "cell_type": "markdown",
   "metadata": {},
   "source": [
    "_Write your notes here. Double-click to edit._"
   ]
  },
  {
   "cell_type": "markdown",
   "metadata": {},
   "source": [
    "## Tables\n",
    "<a id=\"tables\"></a>"
   ]
  },
  {
   "cell_type": "markdown",
   "metadata": {},
   "source": [
    "### Board positions"
   ]
  },
  {
   "cell_type": "markdown",
   "metadata": {},
   "source": [
    "| State | Board Position                      | State | Board Position        | State | Board Position                            |\n",
    "| ----- | ----------------------------------- | ----- | --------------------- | ----- | ----------------------------------------- |\n",
    "| 0     | Go                                  | 14    | Virginia Avenue       | 27    | Ventnor Avenue                            |\n",
    "| 1     | Mediterranean Avenue                | 15    | Pennsylvania Railroad | 28    | Water Works                               |\n",
    "| 2     | Community Chest #1                  | 16    | St. James Place       | 29    | Marvin Gardens                            |\n",
    "| 3     | Baltic Avenue                       | 17    | Community Chest #2    | 30    | Go to Jail (we use this as being in Jail) |\n",
    "| 4     | Income Tax                          | 18    | Tennessee Avenue      | 31    | Pacific Avenue                            |\n",
    "| 5     | Reading Railroad                    | 19    | New York Avenue       | 32    | North Carolina Avenue                     |\n",
    "| 6     | Oriental Avenue                     | 20    | Free Parking          | 33    | Community Chest #3                        |\n",
    "| 7     | Chance #1                           | 21    | Kentucky Avenue       | 34    | Pennsylvania Avenue                       |\n",
    "| 8     | Vermont Avenue                      | 22    | Chance #2             | 35    | Short Line                                |\n",
    "| 9     | Connecticut Avenue                  | 23    | Indiana Avenue        | 36    | Chance #3                                 |\n",
    "| 10    | Jail (we use this as visiting Jail) | 24    | Illinois Avenue       | 37    | Park Place                                |\n",
    "| 11    | St. Charles Place                   | 25    | B& O Railroad         | 38    | Luxury Tax                                |\n",
    "| 12    | Electric Company                    | 26    | Atlantic Avenue       | 39    | Boardwalk                                 |\n",
    "| 13    | States Avenue                       |       \n"
   ]
  },
  {
   "cell_type": "markdown",
   "metadata": {},
   "source": [
    "### Chance card distribution"
   ]
  },
  {
   "cell_type": "markdown",
   "metadata": {},
   "source": [
    "| Destination                          | Probability |\n",
    "| ------------------------------------ | ----------- |\n",
    "| Go (0)                               | 1/16        |\n",
    "| Reading Railroad (5)                 | 1/16        |\n",
    "| St.~Charles Place (11)               | 1/16        |\n",
    "| Illinois Avenue (24)                 | 1/16        |\n",
    "| Jail (30)                            | 1/16        |\n",
    "| Boardwalk (39)                       | 1/16        |\n",
    "| Nearest utility (forward direction)  | 1/16        |\n",
    "| Nearest railroad (forward direction) | 1/16        |\n",
    "| 3 spaces back                        | 1/16        |\n",
    "| Stay put                             | 7/16        |"
   ]
  },
  {
   "cell_type": "markdown",
   "metadata": {},
   "source": [
    "### Community Chest card distribution"
   ]
  },
  {
   "cell_type": "markdown",
   "metadata": {},
   "source": [
    "| Destination | Probability |\n",
    "| ----------- | ----------- |\n",
    "| Go (1)      | 1/16        |\n",
    "| Jail (31)   | 1/16        |\n",
    "| Stay put    | 14/16       |"
   ]
  }
 ],
 "metadata": {
  "kernelspec": {
   "display_name": "Python 3 (ipykernel)",
   "language": "python",
   "name": "python3"
  },
  "language_info": {
   "codemirror_mode": {
    "name": "ipython",
    "version": 3
   },
   "file_extension": ".py",
   "mimetype": "text/x-python",
   "name": "python",
   "nbconvert_exporter": "python",
   "pygments_lexer": "ipython3",
   "version": "3.11.5"
  }
 },
 "nbformat": 4,
 "nbformat_minor": 4
}
